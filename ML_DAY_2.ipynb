{
  "nbformat": 4,
  "nbformat_minor": 0,
  "metadata": {
    "colab": {
      "provenance": [],
      "include_colab_link": true
    },
    "kernelspec": {
      "name": "python3",
      "display_name": "Python 3"
    },
    "language_info": {
      "name": "python"
    }
  },
  "cells": [
    {
      "cell_type": "markdown",
      "metadata": {
        "id": "view-in-github",
        "colab_type": "text"
      },
      "source": [
        "<a href=\"https://colab.research.google.com/github/HiteshSahoo7/learningMachineLearning/blob/main/ML_DAY_2.ipynb\" target=\"_parent\"><img src=\"https://colab.research.google.com/assets/colab-badge.svg\" alt=\"Open In Colab\"/></a>"
      ]
    },
    {
      "cell_type": "code",
      "execution_count": 1,
      "metadata": {
        "colab": {
          "base_uri": "https://localhost:8080/"
        },
        "id": "WBAgvCnxpRIK",
        "outputId": "4d75eca8-b364-483d-9319-05e56ad4e1e8"
      },
      "outputs": [
        {
          "output_type": "stream",
          "name": "stdout",
          "text": [
            "[20, 30, 40]\n"
          ]
        }
      ],
      "source": [
        "# List introduction\n",
        "\n",
        "l = [20,30,40]\n",
        "print(l)"
      ]
    },
    {
      "cell_type": "code",
      "source": [
        "print(type(l)) #Checking type\n"
      ],
      "metadata": {
        "colab": {
          "base_uri": "https://localhost:8080/"
        },
        "id": "fWNWhm3HsSny",
        "outputId": "b459afd9-713d-4c12-be6b-9de99c540703"
      },
      "execution_count": 2,
      "outputs": [
        {
          "output_type": "stream",
          "name": "stdout",
          "text": [
            "<class 'list'>\n"
          ]
        }
      ]
    },
    {
      "cell_type": "code",
      "source": [
        "l2 = [10,1.11111,'Ntt'] #Hetero List\n",
        "print(l2)"
      ],
      "metadata": {
        "colab": {
          "base_uri": "https://localhost:8080/"
        },
        "id": "mSVY05m0t6bs",
        "outputId": "bc625a08-3d30-4a34-cb9a-6819439f9df8"
      },
      "execution_count": 3,
      "outputs": [
        {
          "output_type": "stream",
          "name": "stdout",
          "text": [
            "[10, 1.11111, 'Ntt']\n"
          ]
        }
      ]
    },
    {
      "cell_type": "code",
      "source": [
        "print(len(l2)) #Checking Length"
      ],
      "metadata": {
        "colab": {
          "base_uri": "https://localhost:8080/"
        },
        "id": "cuJIHpnuuTMh",
        "outputId": "8949104c-4a42-4641-bb8c-cec57e1c6f90"
      },
      "execution_count": 4,
      "outputs": [
        {
          "output_type": "stream",
          "name": "stdout",
          "text": [
            "3\n"
          ]
        }
      ]
    },
    {
      "cell_type": "code",
      "source": [
        "l3 = list((10,20,3.3333)) #List using method/constructor\n",
        "print(l3)"
      ],
      "metadata": {
        "id": "H57cqqu2uwvt",
        "outputId": "f6c9743d-b3f0-4459-8939-d79fbf8ff2cd",
        "colab": {
          "base_uri": "https://localhost:8080/"
        }
      },
      "execution_count": 7,
      "outputs": [
        {
          "output_type": "stream",
          "name": "stdout",
          "text": [
            "[10, 20, 3.3333]\n"
          ]
        }
      ]
    },
    {
      "cell_type": "code",
      "source": [
        "#Accessing the list\n",
        "lis = [10,20,30,40,50,60,1.1,2.2,\"NTT\"]\n",
        "\n",
        "print(lis[0]) #positive indexing\n",
        "print(lis[-9]) #negative indexing\n",
        "\n",
        "print(lis[8]) #positive indexing\n",
        "print(lis[-1]) #negative indexing\n"
      ],
      "metadata": {
        "id": "TMVSF3jCvASJ",
        "outputId": "866752dd-8d3b-4ea7-ec78-67b4ff336625",
        "colab": {
          "base_uri": "https://localhost:8080/"
        }
      },
      "execution_count": 15,
      "outputs": [
        {
          "output_type": "stream",
          "name": "stdout",
          "text": [
            "10\n",
            "10\n",
            "NTT\n",
            "NTT\n"
          ]
        }
      ]
    },
    {
      "cell_type": "code",
      "source": [
        "#Range of Indexing\n"
      ],
      "metadata": {
        "id": "o8Gb5BfnvCuH"
      },
      "execution_count": 12,
      "outputs": []
    }
  ]
}