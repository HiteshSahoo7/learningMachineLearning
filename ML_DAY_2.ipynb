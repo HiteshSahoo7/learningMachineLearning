{
  "nbformat": 4,
  "nbformat_minor": 0,
  "metadata": {
    "colab": {
      "provenance": [],
      "include_colab_link": true
    },
    "kernelspec": {
      "name": "python3",
      "display_name": "Python 3"
    },
    "language_info": {
      "name": "python"
    }
  },
  "cells": [
    {
      "cell_type": "markdown",
      "metadata": {
        "id": "view-in-github",
        "colab_type": "text"
      },
      "source": [
        "<a href=\"https://colab.research.google.com/github/HiteshSahoo7/learningMachineLearning/blob/main/ML_DAY_2.ipynb\" target=\"_parent\"><img src=\"https://colab.research.google.com/assets/colab-badge.svg\" alt=\"Open In Colab\"/></a>"
      ]
    },
    {
      "cell_type": "code",
      "execution_count": 1,
      "metadata": {
        "colab": {
          "base_uri": "https://localhost:8080/"
        },
        "id": "WBAgvCnxpRIK",
        "outputId": "4d75eca8-b364-483d-9319-05e56ad4e1e8"
      },
      "outputs": [
        {
          "output_type": "stream",
          "name": "stdout",
          "text": [
            "[20, 30, 40]\n"
          ]
        }
      ],
      "source": [
        "# List introduction\n",
        "\n",
        "l = [20,30,40]\n",
        "print(l)"
      ]
    },
    {
      "cell_type": "code",
      "source": [
        "print(type(l)) #Checking type\n"
      ],
      "metadata": {
        "colab": {
          "base_uri": "https://localhost:8080/"
        },
        "id": "fWNWhm3HsSny",
        "outputId": "b459afd9-713d-4c12-be6b-9de99c540703"
      },
      "execution_count": 2,
      "outputs": [
        {
          "output_type": "stream",
          "name": "stdout",
          "text": [
            "<class 'list'>\n"
          ]
        }
      ]
    },
    {
      "cell_type": "code",
      "source": [
        "l2 = [10,1.11111,'Ntt'] #Hetero List\n",
        "print(l2)"
      ],
      "metadata": {
        "colab": {
          "base_uri": "https://localhost:8080/"
        },
        "id": "mSVY05m0t6bs",
        "outputId": "bc625a08-3d30-4a34-cb9a-6819439f9df8"
      },
      "execution_count": 3,
      "outputs": [
        {
          "output_type": "stream",
          "name": "stdout",
          "text": [
            "[10, 1.11111, 'Ntt']\n"
          ]
        }
      ]
    },
    {
      "cell_type": "code",
      "source": [
        "print(len(l2)) #Checking Length"
      ],
      "metadata": {
        "colab": {
          "base_uri": "https://localhost:8080/"
        },
        "id": "cuJIHpnuuTMh",
        "outputId": "8949104c-4a42-4641-bb8c-cec57e1c6f90"
      },
      "execution_count": 4,
      "outputs": [
        {
          "output_type": "stream",
          "name": "stdout",
          "text": [
            "3\n"
          ]
        }
      ]
    },
    {
      "cell_type": "code",
      "source": [
        "l3 = list((10,20,3.3333)) #List using method/constructor\n",
        "print(l3)"
      ],
      "metadata": {
        "colab": {
          "base_uri": "https://localhost:8080/"
        },
        "id": "H57cqqu2uwvt",
        "outputId": "f6c9743d-b3f0-4459-8939-d79fbf8ff2cd"
      },
      "execution_count": 7,
      "outputs": [
        {
          "output_type": "stream",
          "name": "stdout",
          "text": [
            "[10, 20, 3.3333]\n"
          ]
        }
      ]
    },
    {
      "cell_type": "code",
      "source": [
        "#Accessing the list\n",
        "lis = [10,20,30,40,50,60,1.1,2.2,\"NTT\"]\n",
        "\n",
        "print(lis[0]) #positive indexing\n",
        "print(lis[-9]) #negative indexing\n",
        "\n",
        "print(lis[8]) #positive indexing\n",
        "print(lis[-1]) #negative indexing\n"
      ],
      "metadata": {
        "colab": {
          "base_uri": "https://localhost:8080/"
        },
        "id": "TMVSF3jCvASJ",
        "outputId": "f9721ea7-5720-4984-f660-b49238ee6a27"
      },
      "execution_count": 32,
      "outputs": [
        {
          "output_type": "stream",
          "name": "stdout",
          "text": [
            "10\n",
            "10\n",
            "NTT\n",
            "NTT\n"
          ]
        }
      ]
    },
    {
      "cell_type": "code",
      "source": [
        "#Range of Indexing\n",
        "print(lis[0:9])\n",
        "print(lis[0:4:2])"
      ],
      "metadata": {
        "colab": {
          "base_uri": "https://localhost:8080/"
        },
        "id": "o8Gb5BfnvCuH",
        "outputId": "3416cf64-7ebd-4e0c-931d-7d4f51ba8cfb"
      },
      "execution_count": 22,
      "outputs": [
        {
          "output_type": "stream",
          "name": "stdout",
          "text": [
            "[10, 20, 30, 40, 50, 60, 1.1, 2.2, 'NTT']\n",
            "[10, 30]\n"
          ]
        }
      ]
    },
    {
      "cell_type": "code",
      "source": [
        "lis.append('Data') #Append will get insert at last\n",
        "print(lis)"
      ],
      "metadata": {
        "id": "yDkmTJ5e8-tR",
        "outputId": "ad0d5905-9ebf-4de4-a828-884f78a472ad",
        "colab": {
          "base_uri": "https://localhost:8080/"
        }
      },
      "execution_count": 26,
      "outputs": [
        {
          "output_type": "stream",
          "name": "stdout",
          "text": [
            "[10, 20, 30, 40, 50, 60, 1.1, 2.2, 'NTT', 'Data']\n"
          ]
        }
      ]
    },
    {
      "cell_type": "code",
      "source": [
        "lis.insert(1,15) #Insert can insert at any postion\n",
        "print(lis)"
      ],
      "metadata": {
        "id": "UbAsHHKG9EsH",
        "outputId": "a31e3121-442e-4c3e-b662-274d60e7ec0b",
        "colab": {
          "base_uri": "https://localhost:8080/"
        }
      },
      "execution_count": 27,
      "outputs": [
        {
          "output_type": "stream",
          "name": "stdout",
          "text": [
            "[10, 15, 20, 30, 40, 50, 60, 1.1, 2.2, 'NTT', 'Data']\n"
          ]
        }
      ]
    },
    {
      "cell_type": "code",
      "source": [
        "lis.remove('Data') #Remove will remove the data\n",
        "print(lis)"
      ],
      "metadata": {
        "id": "aW45SVrq-3rg",
        "outputId": "63086587-67d5-42d5-8e23-d2ba3aeebe84",
        "colab": {
          "base_uri": "https://localhost:8080/"
        }
      },
      "execution_count": 28,
      "outputs": [
        {
          "output_type": "stream",
          "name": "stdout",
          "text": [
            "[10, 15, 20, 30, 40, 50, 60, 1.1, 2.2, 'NTT']\n"
          ]
        }
      ]
    },
    {
      "cell_type": "code",
      "source": [
        "lis.pop() #Pop will remove the last element i.e NTT\n",
        "print(lis)"
      ],
      "metadata": {
        "id": "P74G_yEl--0U",
        "outputId": "a0c16b5d-d537-4ec6-978c-fcf607148a2b",
        "colab": {
          "base_uri": "https://localhost:8080/"
        }
      },
      "execution_count": 29,
      "outputs": [
        {
          "output_type": "stream",
          "name": "stdout",
          "text": [
            "[10, 15, 20, 30, 40, 50, 60, 1.1, 2.2]\n"
          ]
        }
      ]
    },
    {
      "cell_type": "code",
      "source": [
        "lis.pop(2) #Pop using index 2\n",
        "print(lis)"
      ],
      "metadata": {
        "id": "_yZLwkUv_OFe",
        "outputId": "51129b21-ae57-44ff-dc0d-745dcd51473b",
        "colab": {
          "base_uri": "https://localhost:8080/"
        }
      },
      "execution_count": 30,
      "outputs": [
        {
          "output_type": "stream",
          "name": "stdout",
          "text": [
            "[10, 15, 30, 40, 50, 60, 1.1, 2.2]\n"
          ]
        }
      ]
    },
    {
      "cell_type": "code",
      "source": [
        "lis.clear() #it will remove all elements\n",
        "print(lis)"
      ],
      "metadata": {
        "id": "SufbHViyAGdo",
        "outputId": "dff1398f-dce2-4032-ce42-bc340ad9c16a",
        "colab": {
          "base_uri": "https://localhost:8080/"
        }
      },
      "execution_count": 31,
      "outputs": [
        {
          "output_type": "stream",
          "name": "stdout",
          "text": [
            "[]\n"
          ]
        }
      ]
    },
    {
      "cell_type": "code",
      "source": [
        "#For Loop\n",
        "for i in lis:\n",
        "  print(i)"
      ],
      "metadata": {
        "id": "LJFrbha4BPjj",
        "outputId": "26dc949d-fc80-4a2a-f433-0b97a19ab17c",
        "colab": {
          "base_uri": "https://localhost:8080/"
        }
      },
      "execution_count": 35,
      "outputs": [
        {
          "output_type": "stream",
          "name": "stdout",
          "text": [
            "10\n",
            "20\n",
            "30\n",
            "40\n",
            "50\n",
            "60\n",
            "1.1\n",
            "2.2\n",
            "NTT\n"
          ]
        }
      ]
    }
  ]
}