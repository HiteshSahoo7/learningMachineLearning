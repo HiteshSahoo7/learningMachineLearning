{
  "nbformat": 4,
  "nbformat_minor": 0,
  "metadata": {
    "colab": {
      "provenance": []
    },
    "kernelspec": {
      "name": "python3",
      "display_name": "Python 3"
    },
    "language_info": {
      "name": "python"
    }
  },
  "cells": [
    {
      "cell_type": "code",
      "execution_count": 1,
      "metadata": {
        "colab": {
          "base_uri": "https://localhost:8080/"
        },
        "id": "WBAgvCnxpRIK",
        "outputId": "4d75eca8-b364-483d-9319-05e56ad4e1e8"
      },
      "outputs": [
        {
          "output_type": "stream",
          "name": "stdout",
          "text": [
            "[20, 30, 40]\n"
          ]
        }
      ],
      "source": [
        "# List introduction\n",
        "\n",
        "l = [20,30,40]\n",
        "print(l)"
      ]
    },
    {
      "cell_type": "code",
      "source": [
        "\n"
      ],
      "metadata": {
        "id": "fWNWhm3HsSny"
      },
      "execution_count": null,
      "outputs": []
    }
  ]
}