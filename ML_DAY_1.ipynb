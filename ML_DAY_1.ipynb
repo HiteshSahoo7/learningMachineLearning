{
  "nbformat": 4,
  "nbformat_minor": 0,
  "metadata": {
    "colab": {
      "provenance": [],
      "include_colab_link": true
    },
    "kernelspec": {
      "name": "python3",
      "display_name": "Python 3"
    },
    "language_info": {
      "name": "python"
    }
  },
  "cells": [
    {
      "cell_type": "markdown",
      "metadata": {
        "id": "view-in-github",
        "colab_type": "text"
      },
      "source": [
        "<a href=\"https://colab.research.google.com/github/HiteshSahoo7/learningMachineLearning/blob/main/ML_DAY_1.ipynb\" target=\"_parent\"><img src=\"https://colab.research.google.com/assets/colab-badge.svg\" alt=\"Open In Colab\"/></a>"
      ]
    },
    {
      "cell_type": "code",
      "execution_count": 1,
      "metadata": {
        "colab": {
          "base_uri": "https://localhost:8080/"
        },
        "id": "WBAgvCnxpRIK",
        "outputId": "4d75eca8-b364-483d-9319-05e56ad4e1e8"
      },
      "outputs": [
        {
          "output_type": "stream",
          "name": "stdout",
          "text": [
            "[20, 30, 40]\n"
          ]
        }
      ],
      "source": [
        "# List introduction\n",
        "\n",
        "l = [20,30,40]\n",
        "print(l)"
      ]
    },
    {
      "cell_type": "code",
      "source": [
        "print(type(l)) #Checking type\n"
      ],
      "metadata": {
        "colab": {
          "base_uri": "https://localhost:8080/"
        },
        "id": "fWNWhm3HsSny",
        "outputId": "b459afd9-713d-4c12-be6b-9de99c540703"
      },
      "execution_count": 2,
      "outputs": [
        {
          "output_type": "stream",
          "name": "stdout",
          "text": [
            "<class 'list'>\n"
          ]
        }
      ]
    },
    {
      "cell_type": "code",
      "source": [
        "l2 = [10,1.11111,'Ntt'] #Hetero List\n",
        "print(l2)"
      ],
      "metadata": {
        "id": "mSVY05m0t6bs",
        "outputId": "bc625a08-3d30-4a34-cb9a-6819439f9df8",
        "colab": {
          "base_uri": "https://localhost:8080/"
        }
      },
      "execution_count": 3,
      "outputs": [
        {
          "output_type": "stream",
          "name": "stdout",
          "text": [
            "[10, 1.11111, 'Ntt']\n"
          ]
        }
      ]
    },
    {
      "cell_type": "code",
      "source": [
        "print(len(l2)) #Checking Length"
      ],
      "metadata": {
        "id": "cuJIHpnuuTMh",
        "outputId": "8949104c-4a42-4641-bb8c-cec57e1c6f90",
        "colab": {
          "base_uri": "https://localhost:8080/"
        }
      },
      "execution_count": 4,
      "outputs": [
        {
          "output_type": "stream",
          "name": "stdout",
          "text": [
            "3\n"
          ]
        }
      ]
    }
  ]
}